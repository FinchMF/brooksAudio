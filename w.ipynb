{
 "cells": [
  {
   "cell_type": "code",
   "execution_count": 32,
   "source": [
    "from src.wavIO import WavIn, WavOut\n",
    "waveFile = 'Beach_House_Space_Song.wav'\n",
    "W = WavIn(waveFile)\n",
    "Frames = W.readFrames(output='output')"
   ],
   "outputs": [],
   "metadata": {}
  },
  {
   "cell_type": "code",
   "execution_count": 5,
   "source": [
    "Frames"
   ],
   "outputs": [
    {
     "output_type": "execute_result",
     "data": {
      "text/html": [
       "<div>\n",
       "<style scoped>\n",
       "    .dataframe tbody tr th:only-of-type {\n",
       "        vertical-align: middle;\n",
       "    }\n",
       "\n",
       "    .dataframe tbody tr th {\n",
       "        vertical-align: top;\n",
       "    }\n",
       "\n",
       "    .dataframe thead th {\n",
       "        text-align: right;\n",
       "    }\n",
       "</style>\n",
       "<table border=\"1\" class=\"dataframe\">\n",
       "  <thead>\n",
       "    <tr style=\"text-align: right;\">\n",
       "      <th></th>\n",
       "      <th>frames(amplitude)</th>\n",
       "    </tr>\n",
       "  </thead>\n",
       "  <tbody>\n",
       "    <tr>\n",
       "      <th>0</th>\n",
       "      <td>2.754939e-40</td>\n",
       "    </tr>\n",
       "    <tr>\n",
       "      <th>1</th>\n",
       "      <td>6.428289e-40</td>\n",
       "    </tr>\n",
       "    <tr>\n",
       "      <th>2</th>\n",
       "      <td>1.010169e-39</td>\n",
       "    </tr>\n",
       "    <tr>\n",
       "      <th>3</th>\n",
       "      <td>1.102006e-39</td>\n",
       "    </tr>\n",
       "    <tr>\n",
       "      <th>4</th>\n",
       "      <td>8.265012e-40</td>\n",
       "    </tr>\n",
       "    <tr>\n",
       "      <th>...</th>\n",
       "      <td>...</td>\n",
       "    </tr>\n",
       "    <tr>\n",
       "      <th>14132575</th>\n",
       "      <td>0.000000e+00</td>\n",
       "    </tr>\n",
       "    <tr>\n",
       "      <th>14132576</th>\n",
       "      <td>0.000000e+00</td>\n",
       "    </tr>\n",
       "    <tr>\n",
       "      <th>14132577</th>\n",
       "      <td>0.000000e+00</td>\n",
       "    </tr>\n",
       "    <tr>\n",
       "      <th>14132578</th>\n",
       "      <td>0.000000e+00</td>\n",
       "    </tr>\n",
       "    <tr>\n",
       "      <th>14132579</th>\n",
       "      <td>0.000000e+00</td>\n",
       "    </tr>\n",
       "  </tbody>\n",
       "</table>\n",
       "<p>14132580 rows × 1 columns</p>\n",
       "</div>"
      ],
      "text/plain": [
       "          frames(amplitude)\n",
       "0              2.754939e-40\n",
       "1              6.428289e-40\n",
       "2              1.010169e-39\n",
       "3              1.102006e-39\n",
       "4              8.265012e-40\n",
       "...                     ...\n",
       "14132575       0.000000e+00\n",
       "14132576       0.000000e+00\n",
       "14132577       0.000000e+00\n",
       "14132578       0.000000e+00\n",
       "14132579       0.000000e+00\n",
       "\n",
       "[14132580 rows x 1 columns]"
      ]
     },
     "metadata": {},
     "execution_count": 5
    }
   ],
   "metadata": {}
  },
  {
   "cell_type": "code",
   "execution_count": 7,
   "source": [
    "from src.wavProcessor import Effects\n",
    "E = Effects(root='output', filename=waveFile)\n",
    "E.reverse()\n",
    "E.timeStretch(factor=2)\n",
    "E.timeStretch(factor=0.5)"
   ],
   "outputs": [],
   "metadata": {}
  },
  {
   "cell_type": "code",
   "execution_count": 11,
   "source": [
    "from src.wavSplitter import WavSplitter\n",
    "SPLIT = WavSplitter(root='output', filename=waveFile)\n",
    "SPLIT.splitWavsBySeconds(seconds=10)"
   ],
   "outputs": [],
   "metadata": {}
  }
 ],
 "metadata": {
  "orig_nbformat": 4,
  "language_info": {
   "name": "python",
   "version": "3.9.6",
   "mimetype": "text/x-python",
   "codemirror_mode": {
    "name": "ipython",
    "version": 3
   },
   "pygments_lexer": "ipython3",
   "nbconvert_exporter": "python",
   "file_extension": ".py"
  },
  "kernelspec": {
   "name": "python3",
   "display_name": "Python 3.9.6 64-bit ('env': venv)"
  },
  "interpreter": {
   "hash": "db390c3f9d3a7ac6abc7aa5acc66850b380cbd06b62f25dfac1afb26bf38c3f2"
  }
 },
 "nbformat": 4,
 "nbformat_minor": 2
}