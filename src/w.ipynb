{
 "cells": [
  {
   "cell_type": "code",
   "execution_count": 1,
   "source": [
    "import wave\n",
    "import numpy as np\n",
    "import pandas as pd\n",
    "import random"
   ],
   "outputs": [],
   "metadata": {}
  },
  {
   "cell_type": "code",
   "execution_count": 1,
   "source": [
    "waveFile = '/Users/finchmf/coding/brooksAudio/Beach House - Space Song-996621097.wav'"
   ],
   "outputs": [],
   "metadata": {}
  },
  {
   "cell_type": "code",
   "execution_count": 3,
   "source": [
    "data = wave.open(waveFile, 'rb')\n",
    "rate = data.getframerate()\n",
    "channels = data.getnchannels()\n",
    "swidth = data.getsampwidth()\n",
    "nframes = data.getnframes()\n",
    "signal = data.readframes(-1)\n",
    "\n"
   ],
   "outputs": [],
   "metadata": {}
  },
  {
   "cell_type": "code",
   "execution_count": 44,
   "source": [
    "S = np.frombuffer(signal, dtype='float32')"
   ],
   "outputs": [],
   "metadata": {}
  },
  {
   "cell_type": "code",
   "execution_count": 42,
   "source": [
    "def shuffle(A):\n",
    "    x = len(A)\n",
    "    p = x / 100\n",
    "    \n",
    "\n",
    "    return A"
   ],
   "outputs": [],
   "metadata": {}
  },
  {
   "cell_type": "code",
   "execution_count": 38,
   "source": [
    "S = shuffle(S)"
   ],
   "outputs": [],
   "metadata": {}
  },
  {
   "cell_type": "code",
   "execution_count": 39,
   "source": [
    "S"
   ],
   "outputs": [
    {
     "output_type": "execute_result",
     "data": {
      "text/plain": [
       "array([ 2.9865857e-15,  3.1966898e-29,  7.6520010e-33, ...,\n",
       "       -6.6909168e+27, -2.4201556e+20,  4.8680881e-36], dtype=float32)"
      ]
     },
     "metadata": {},
     "execution_count": 39
    }
   ],
   "metadata": {}
  },
  {
   "cell_type": "code",
   "execution_count": 34,
   "source": [
    "AA = np.array([1,2,3,4])"
   ],
   "outputs": [],
   "metadata": {}
  },
  {
   "cell_type": "code",
   "execution_count": 43,
   "source": [
    "A = shuffle(S)\n",
    "A"
   ],
   "outputs": [
    {
     "output_type": "stream",
     "name": "stdout",
     "text": [
      "14132580\n"
     ]
    },
    {
     "output_type": "execute_result",
     "data": {
      "text/plain": [
       "array([ 2.9865857e-15,  3.1966898e-29,  7.6520010e-33, ...,\n",
       "       -6.6909168e+27, -2.4201556e+20,  4.8680881e-36], dtype=float32)"
      ]
     },
     "metadata": {},
     "execution_count": 43
    }
   ],
   "metadata": {}
  },
  {
   "cell_type": "code",
   "execution_count": 29,
   "source": [
    "pd.DataFrame(S, columns=['frames(amplitude)'])"
   ],
   "outputs": [
    {
     "output_type": "execute_result",
     "data": {
      "text/html": [
       "<div>\n",
       "<style scoped>\n",
       "    .dataframe tbody tr th:only-of-type {\n",
       "        vertical-align: middle;\n",
       "    }\n",
       "\n",
       "    .dataframe tbody tr th {\n",
       "        vertical-align: top;\n",
       "    }\n",
       "\n",
       "    .dataframe thead th {\n",
       "        text-align: right;\n",
       "    }\n",
       "</style>\n",
       "<table border=\"1\" class=\"dataframe\">\n",
       "  <thead>\n",
       "    <tr style=\"text-align: right;\">\n",
       "      <th></th>\n",
       "      <th>frames(amplitude)</th>\n",
       "    </tr>\n",
       "  </thead>\n",
       "  <tbody>\n",
       "    <tr>\n",
       "      <th>0</th>\n",
       "      <td>2.754939e-40</td>\n",
       "    </tr>\n",
       "    <tr>\n",
       "      <th>1</th>\n",
       "      <td>6.428289e-40</td>\n",
       "    </tr>\n",
       "    <tr>\n",
       "      <th>2</th>\n",
       "      <td>1.010169e-39</td>\n",
       "    </tr>\n",
       "    <tr>\n",
       "      <th>3</th>\n",
       "      <td>1.102006e-39</td>\n",
       "    </tr>\n",
       "    <tr>\n",
       "      <th>4</th>\n",
       "      <td>8.265012e-40</td>\n",
       "    </tr>\n",
       "    <tr>\n",
       "      <th>...</th>\n",
       "      <td>...</td>\n",
       "    </tr>\n",
       "    <tr>\n",
       "      <th>14132575</th>\n",
       "      <td>0.000000e+00</td>\n",
       "    </tr>\n",
       "    <tr>\n",
       "      <th>14132576</th>\n",
       "      <td>0.000000e+00</td>\n",
       "    </tr>\n",
       "    <tr>\n",
       "      <th>14132577</th>\n",
       "      <td>0.000000e+00</td>\n",
       "    </tr>\n",
       "    <tr>\n",
       "      <th>14132578</th>\n",
       "      <td>0.000000e+00</td>\n",
       "    </tr>\n",
       "    <tr>\n",
       "      <th>14132579</th>\n",
       "      <td>0.000000e+00</td>\n",
       "    </tr>\n",
       "  </tbody>\n",
       "</table>\n",
       "<p>14132580 rows × 1 columns</p>\n",
       "</div>"
      ],
      "text/plain": [
       "          frames(amplitude)\n",
       "0              2.754939e-40\n",
       "1              6.428289e-40\n",
       "2              1.010169e-39\n",
       "3              1.102006e-39\n",
       "4              8.265012e-40\n",
       "...                     ...\n",
       "14132575       0.000000e+00\n",
       "14132576       0.000000e+00\n",
       "14132577       0.000000e+00\n",
       "14132578       0.000000e+00\n",
       "14132579       0.000000e+00\n",
       "\n",
       "[14132580 rows x 1 columns]"
      ]
     },
     "metadata": {},
     "execution_count": 29
    }
   ],
   "metadata": {}
  },
  {
   "cell_type": "code",
   "execution_count": 6,
   "source": [
    "# output = wave.open('reversed.wav', 'wb')\n",
    "# output.setnchannels(channels)\n",
    "# output.setsampwidth(swidth)\n",
    "# output.setframerate(nframes)\n",
    "# output.writeframes(signal[::-1])\n",
    "# output.close()"
   ],
   "outputs": [],
   "metadata": {}
  },
  {
   "cell_type": "code",
   "execution_count": 40,
   "source": [
    "def reverse_audio(infile,outfile):\n",
    "    # to time stretch recording (pitch is not as affected)\n",
    "    # less that 1 speeds up the audio, greater than 1 slows down the audio\n",
    "    infile=wave.open(infile, 'rb')\n",
    "    rate= infile.getframerate()\n",
    "    channels=infile.getnchannels()\n",
    "    swidth=infile.getsampwidth()\n",
    "    nframes= infile.getnframes()\n",
    "    audio_signal= infile.readframes(-1)\n",
    "    S = np.frombuffer(audio_signal, dtype='float32')\n",
    "    S = shuffle(S) #S[::-1]\n",
    "\n",
    "    outfile = wave.open(outfile, 'wb')\n",
    "    outfile.setnchannels(channels)\n",
    "    outfile.setsampwidth(swidth)\n",
    "    outfile.setframerate(rate)\n",
    "    outfile.writeframes(S.tobytes())\n",
    "    outfile.close()\n",
    "    message = 'youre audio is now reversed'\n",
    "    print(message[::-1])"
   ],
   "outputs": [],
   "metadata": {}
  },
  {
   "cell_type": "code",
   "execution_count": 41,
   "source": [
    "reverse_audio(infile=waveFile, outfile='shuffled.wav')"
   ],
   "outputs": [
    {
     "output_type": "stream",
     "name": "stdout",
     "text": [
      "desrever won si oidua eruoy\n"
     ]
    }
   ],
   "metadata": {}
  },
  {
   "cell_type": "code",
   "execution_count": 2,
   "source": [
    "from wavSplitter import WavSplitter"
   ],
   "outputs": [],
   "metadata": {}
  },
  {
   "cell_type": "code",
   "execution_count": 3,
   "source": [
    "SPLIT = WavSplitter(root='tmp', filename=waveFile)"
   ],
   "outputs": [],
   "metadata": {}
  },
  {
   "cell_type": "code",
   "execution_count": 4,
   "source": [
    "SPLIT.splitWavsBySeconds(seconds=10)"
   ],
   "outputs": [],
   "metadata": {}
  },
  {
   "cell_type": "code",
   "execution_count": null,
   "source": [],
   "outputs": [],
   "metadata": {}
  }
 ],
 "metadata": {
  "orig_nbformat": 4,
  "language_info": {
   "name": "python",
   "version": "3.9.6",
   "mimetype": "text/x-python",
   "codemirror_mode": {
    "name": "ipython",
    "version": 3
   },
   "pygments_lexer": "ipython3",
   "nbconvert_exporter": "python",
   "file_extension": ".py"
  },
  "kernelspec": {
   "name": "python3",
   "display_name": "Python 3.9.6 64-bit ('env': venv)"
  },
  "interpreter": {
   "hash": "db390c3f9d3a7ac6abc7aa5acc66850b380cbd06b62f25dfac1afb26bf38c3f2"
  }
 },
 "nbformat": 4,
 "nbformat_minor": 2
}